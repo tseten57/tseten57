{
  "nbformat": 4,
  "nbformat_minor": 0,
  "metadata": {
    "colab": {
      "provenance": [],
      "authorship_tag": "ABX9TyNOduy48i+fmgJRnhHf+DaC",
      "include_colab_link": true
    },
    "kernelspec": {
      "name": "python3",
      "display_name": "Python 3"
    },
    "language_info": {
      "name": "python"
    }
  },
  "cells": [
    {
      "cell_type": "markdown",
      "metadata": {
        "id": "view-in-github",
        "colab_type": "text"
      },
      "source": [
        "<a href=\"https://colab.research.google.com/github/tseten57/tseten57/blob/main/data_cleaning.ipynb\" target=\"_parent\"><img src=\"https://colab.research.google.com/assets/colab-badge.svg\" alt=\"Open In Colab\"/></a>"
      ]
    },
    {
      "cell_type": "code",
      "execution_count": 5,
      "metadata": {
        "id": "qzv9CnGRBfH8"
      },
      "outputs": [],
      "source": [
        "import re\n",
        "\n",
        "# Read the input PDF file\n",
        "with open('rinpoche.pdf', 'r', encoding='latin-1') as file:\n",
        "    pdf_text = file.read()\n",
        "\n",
        "# Remove spaces (newlines)\n",
        "cleaned_text = re.sub(r'\\n', '', pdf_text)\n",
        "\n",
        "# Remove numbers\n",
        "cleaned_text = re.sub(r'\\d+', '', cleaned_text)\n",
        "\n",
        "# Save the cleaned text to a new TXT file\n",
        "with open('output.txt', 'w') as file:\n",
        "    file.write(cleaned_text)\n"
      ]
    },
    {
      "cell_type": "code",
      "source": [
        "import re\n",
        "\n",
        "# Read the input TXT file\n",
        "with open('progressive.txt', 'r') as file:\n",
        "    txt_text = file.read()\n",
        "\n",
        "# Remove spaces (newlines)\n",
        "cleaned_text = re.sub(r'\\n', '', txt_text)\n",
        "\n",
        "# Remove numbers\n",
        "cleaned_text = re.sub(r'\\d+', '', cleaned_text)\n",
        "\n",
        "# Save the cleaned text to a new TXT file\n",
        "with open('progressive-1.txt', 'w') as file:\n",
        "    file.write(cleaned_text)\n"
      ],
      "metadata": {
        "id": "Ru9UsVATEQVe"
      },
      "execution_count": 7,
      "outputs": []
    },
    {
      "cell_type": "code",
      "source": [],
      "metadata": {
        "id": "XWJEMMplICc9"
      },
      "execution_count": null,
      "outputs": []
    }
  ]
}